{
 "cells": [
  {
   "cell_type": "code",
   "execution_count": 7,
   "id": "8061cb7d",
   "metadata": {},
   "outputs": [],
   "source": [
    "import pandas as pd\n",
    "import numpy as np\n",
    "from glob import glob\n",
    "from tqdm import tqdm\n",
    "import os\n",
    "from sklearn.model_selection import train_test_split\n",
    "import json\n",
    "from math import sin, cos\n",
    "import imutils\n",
    "from skimage.transform import rotate\n",
    "\n",
    "import torch\n",
    "import torch.nn as nn\n",
    "import torch.optim as optim\n",
    "from torch.utils.data import Dataset\n",
    "from torchvision import datasets, models, transforms\n",
    "from torchvision.transforms.autoaugment import AutoAugmentPolicy\n",
    "\n",
    "import pickle \n",
    "\n",
    "import cv2\n",
    "from PIL import Image\n",
    "\n",
    "import matplotlib.pyplot as plt\n",
    "from IPython.display import clear_output"
   ]
  },
  {
   "cell_type": "code",
   "execution_count": 19,
   "id": "af89bf1d",
   "metadata": {},
   "outputs": [],
   "source": [
    "with open('submissions/wideresnet_trig_ext_relu_uncloud.pickle', 'rb') as f:\n",
    "    resnet_arr = pickle.load(f)"
   ]
  },
  {
   "cell_type": "code",
   "execution_count": 21,
   "id": "706ceb23",
   "metadata": {},
   "outputs": [],
   "source": [
    "with open('submissions/resnext_trig_ext_relu_4.pickle', 'rb') as f:\n",
    "    densnet_arr = pickle.load(f)"
   ]
  },
  {
   "cell_type": "code",
   "execution_count": 22,
   "id": "0df05a86",
   "metadata": {},
   "outputs": [],
   "source": [
    "test_files = sorted(glob('data\\\\test\\\\img_uncloud\\\\*'))"
   ]
  },
  {
   "cell_type": "code",
   "execution_count": 23,
   "id": "2cf022a7",
   "metadata": {},
   "outputs": [],
   "source": [
    "indexes = [x.split('\\\\')[-1].split('.')[0] for x in test_files]\n",
    "preds = []"
   ]
  },
  {
   "cell_type": "code",
   "execution_count": 25,
   "id": "0c63ce3f",
   "metadata": {},
   "outputs": [],
   "source": [
    "sub_dir = \"submissions\\\\subm_stack_wideres_resnext_uncloud_ext_trig\\\\\"\n",
    "if not os.path.exists(sub_dir):\n",
    "    os.makedirs(sub_dir)\n",
    "\n",
    "json_true = []\n",
    "\n",
    "for indx, pr1, pr2 in zip(indexes, resnet_arr, densnet_arr):\n",
    "    #print(indx, pr1, pr2)\n",
    "    pred = (pr1+pr2)/2\n",
    "    pred[:-1] = np.clip(pred[:-1], 0, 10496)\n",
    "    pred[-1] = np.clip(pred[-1], 0, 360)\n",
    "#     cx = (pred[0]+pred[2])/2\n",
    "#     cy = (pred[1]+pred[3])/2\n",
    "    pred = [int(x) for x in pred]\n",
    "    pred[-1] = pred[-1]%360\n",
    "    left_top = [pred[0], pred[1]]\n",
    "    right_top = [pred[6], pred[7]]\n",
    "    left_bottom = [pred[4], pred[5]]\n",
    "    right_bottom = [pred[2], pred[3]]\n",
    "        \n",
    "    res = {\n",
    "        'left_top': left_top,\n",
    "        'right_top': right_top,\n",
    "        'left_bottom': left_bottom,\n",
    "        'right_bottom': right_bottom,\n",
    "        'angle': pred[4]\n",
    "    }\n",
    "\n",
    "    with open(sub_dir+indx+'.json', 'w') as f:\n",
    "        json.dump(res, f)"
   ]
  },
  {
   "cell_type": "code",
   "execution_count": 36,
   "id": "3a0efb0b",
   "metadata": {},
   "outputs": [],
   "source": [
    "sub_dir = \"submissions\\\\subm_stack_incept_res_dense\\\\\"\n",
    "if not os.path.exists(sub_dir):\n",
    "    os.makedirs(sub_dir)\n",
    "\n",
    "json_true = []\n",
    "\n",
    "for indx, pr1, pr2,pr3 in zip(indexes, resnet_arr, densnet_arr, inception_arr):\n",
    "    #print(indx, pr1, pr2)\n",
    "    pred = (pr1+pr2+pr3)/3\n",
    "    pred[:4] = np.clip(pred[:4], 0, 10496)\n",
    "    pred[-1] = np.clip(pred[-1], 0, 360)\n",
    "    pred = [int(x) for x in pred]\n",
    "\n",
    "    left_top = [pred[0], pred[1]]\n",
    "    right_top = [pred[2], pred[1]]\n",
    "    left_bottom = [pred[0], pred[3]]\n",
    "    right_bottom = [pred[2], pred[3]]\n",
    "        \n",
    "    res = {\n",
    "        'left_top': left_top,\n",
    "        'right_top': right_top,\n",
    "        'left_bottom': left_bottom,\n",
    "        'right_bottom': right_bottom,\n",
    "        'angle': pred[4]\n",
    "    }\n",
    "\n",
    "    with open(sub_dir+indx+'.json', 'w') as f:\n",
    "        json.dump(res, f)"
   ]
  },
  {
   "cell_type": "code",
   "execution_count": null,
   "id": "665e1f13",
   "metadata": {},
   "outputs": [],
   "source": []
  }
 ],
 "metadata": {
  "kernelspec": {
   "display_name": "Python 3 (ipykernel)",
   "language": "python",
   "name": "python3"
  },
  "language_info": {
   "codemirror_mode": {
    "name": "ipython",
    "version": 3
   },
   "file_extension": ".py",
   "mimetype": "text/x-python",
   "name": "python",
   "nbconvert_exporter": "python",
   "pygments_lexer": "ipython3",
   "version": "3.9.12"
  }
 },
 "nbformat": 4,
 "nbformat_minor": 5
}
