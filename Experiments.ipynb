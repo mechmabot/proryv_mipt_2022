{
 "cells": [
  {
   "cell_type": "code",
   "execution_count": 30,
   "id": "dbc75edf",
   "metadata": {
    "scrolled": true
   },
   "outputs": [],
   "source": [
    "import torch\n",
    "import numpy as np\n",
    "import cv2 as cv\n",
    "import time"
   ]
  },
  {
   "cell_type": "code",
   "execution_count": 34,
   "id": "4eb562b8",
   "metadata": {},
   "outputs": [],
   "source": [
    "device = 'cuda:0'"
   ]
  },
  {
   "cell_type": "code",
   "execution_count": 32,
   "id": "2f7f1480",
   "metadata": {},
   "outputs": [],
   "source": [
    "x_ext_1024 = torch.zeros(1024, dtype=torch.int32)\n",
    "x_ext_512 = torch.zeros(512, dtype=torch.int32)\n",
    "x_ext_256 = torch.zeros(256, dtype=torch.int32)\n",
    "x_int_1024 = torch.zeros(1024, dtype=torch.int32)\n",
    "x_int_512 = torch.zeros(512, dtype=torch.int32)\n",
    "x_int_256 = torch.zeros(256, dtype=torch.int32)\n",
    "y_ext_1024 = torch.zeros(1024, dtype=torch.int32)\n",
    "y_ext_512 = torch.zeros(512, dtype=torch.int32)\n",
    "y_ext_256 = torch.zeros(256, dtype=torch.int32)\n",
    "y_int_1024 = torch.zeros(1024, dtype=torch.int32)\n",
    "y_int_512 = torch.zeros(512, dtype=torch.int32)\n",
    "y_int_256 = torch.zeros(256, dtype=torch.int32)"
   ]
  },
  {
   "cell_type": "code",
   "execution_count": 33,
   "id": "30fd909c",
   "metadata": {},
   "outputs": [],
   "source": [
    "image = cv.imread('data/original.tiff')"
   ]
  },
  {
   "cell_type": "code",
   "execution_count": 41,
   "id": "569711b9",
   "metadata": {},
   "outputs": [],
   "source": [
    "z21 = torch.zeros((256, 256)).to(device)\n",
    "z22 = torch.zeros((256, 256)).to(device)"
   ]
  },
  {
   "cell_type": "code",
   "execution_count": 42,
   "id": "126b1189",
   "metadata": {},
   "outputs": [
    {
     "name": "stdout",
     "output_type": "stream",
     "text": [
      "0.00030279999919002876\n"
     ]
    }
   ],
   "source": [
    "t1 = time.perf_counter()\n",
    "z3 = z21*z22\n",
    "t2 = time.perf_counter()\n",
    "print(t2-t1)"
   ]
  },
  {
   "cell_type": "code",
   "execution_count": null,
   "id": "3617216c",
   "metadata": {},
   "outputs": [],
   "source": [
    "def V_conj(N, p, q):\n",
    "    \n",
    "    "
   ]
  },
  {
   "cell_type": "code",
   "execution_count": null,
   "id": "5e79b9cc",
   "metadata": {},
   "outputs": [],
   "source": [
    "def z_moment(img, p, q):\n",
    "    # img (batch_size, c, h, w)\n",
    "    N = img.shape[-1]\n",
    "    if img.shape[-1] != img.shape[-2]:\n",
    "        print('not squared img')\n",
    "    \n",
    "    "
   ]
  }
 ],
 "metadata": {
  "kernelspec": {
   "display_name": "Python 3 (ipykernel)",
   "language": "python",
   "name": "python3"
  },
  "language_info": {
   "codemirror_mode": {
    "name": "ipython",
    "version": 3
   },
   "file_extension": ".py",
   "mimetype": "text/x-python",
   "name": "python",
   "nbconvert_exporter": "python",
   "pygments_lexer": "ipython3",
   "version": "3.9.12"
  }
 },
 "nbformat": 4,
 "nbformat_minor": 5
}
