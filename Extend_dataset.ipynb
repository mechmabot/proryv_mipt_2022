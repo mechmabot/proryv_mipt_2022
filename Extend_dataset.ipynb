{
 "cells": [
  {
   "cell_type": "code",
   "execution_count": 24,
   "id": "d7d462bf",
   "metadata": {},
   "outputs": [],
   "source": [
    "\n",
    "import pandas as pd\n",
    "import numpy as np\n",
    "from glob import glob\n",
    "from tqdm import tqdm\n",
    "import os\n",
    "from sklearn.model_selection import train_test_split\n",
    "import json\n",
    "from math import sin, cos\n",
    "import imutils\n",
    "from skimage.transform import rotate\n",
    "\n",
    "import torch\n",
    "import torch.nn as nn\n",
    "import torch.optim as optim\n",
    "from torch.utils.data import Dataset\n",
    "from torchvision import datasets, models, transforms\n",
    "from torchvision.transforms.autoaugment import AutoAugmentPolicy\n",
    "from skimage.transform import rotate\n",
    "from skimage.io import imread, imsave, imshow\n",
    "from skimage.transform import rescale, resize, downscale_local_mean\n",
    "\n",
    "\n",
    "import cv2\n",
    "from PIL import Image\n",
    "\n",
    "import matplotlib.pyplot as plt\n",
    "from IPython.display import clear_output"
   ]
  },
  {
   "cell_type": "code",
   "execution_count": 4,
   "id": "5f397267",
   "metadata": {},
   "outputs": [],
   "source": [
    "def rot_mat(alpha):\n",
    "    res = np.zeros((2, 2))\n",
    "    res[0,0] = np.cos(alpha/180*np.pi)\n",
    "    res[0,1] = -np.sin(alpha/180*np.pi)\n",
    "    res[1,0] = np.sin(alpha/180*np.pi)\n",
    "    res[1,1] = np.cos(alpha/180*np.pi)\n",
    "    return res"
   ]
  },
  {
   "cell_type": "code",
   "execution_count": 31,
   "id": "faf5bbeb",
   "metadata": {},
   "outputs": [],
   "source": [
    "orig = cv2.imread('data/new_orig_03.png')"
   ]
  },
  {
   "cell_type": "code",
   "execution_count": 42,
   "id": "dc4383d2",
   "metadata": {},
   "outputs": [],
   "source": [
    "N=10496"
   ]
  },
  {
   "cell_type": "code",
   "execution_count": 53,
   "id": "e21dcb1b",
   "metadata": {},
   "outputs": [],
   "source": [
    "angles = [a for a in range(0, 90, 2)]+[a for a in range(270, 360, 2)]+[a for a in range(90, 270, 4)]\n",
    "number_each_angle = 4"
   ]
  },
  {
   "cell_type": "code",
   "execution_count": 54,
   "id": "53f5a892",
   "metadata": {},
   "outputs": [],
   "source": [
    "ind = 1201"
   ]
  },
  {
   "cell_type": "code",
   "execution_count": 55,
   "id": "e1e64935",
   "metadata": {},
   "outputs": [],
   "source": [
    "np.random.seed(59)"
   ]
  },
  {
   "cell_type": "code",
   "execution_count": 56,
   "id": "ba74f5fb",
   "metadata": {},
   "outputs": [
    {
     "name": "stderr",
     "output_type": "stream",
     "text": [
      "100%|████████████████████████████████████████████████████████████████████████████████| 135/135 [05:35<00:00,  2.48s/it]\n"
     ]
    }
   ],
   "source": [
    "\n",
    "\n",
    "for angle in tqdm(angles):\n",
    "    for j in range(number_each_angle):\n",
    "        c_y_c_x = np.random.randint(512*2**0.5+1500, N-512*2**0.5-800, 2)\n",
    "        c_y, c_x = c_y_c_x[0], c_y_c_x[1]\n",
    "        patch_big = orig[c_y-725:c_y+725,c_x-725:c_x+725]\n",
    "#         print(c_y_c_x)\n",
    "#         print(patch_big.shape)\n",
    "        new_patch = (rotate(patch_big, angle)[725-512:2*725-(725-512), 725-512:2*725-(725-512), :]*255).astype('int')\n",
    "        #print(new_patch)\n",
    "        corners = []\n",
    "        y1_x1 =  (c_y_c_x+np.array([int(-512), int(-512)])@rot_mat(angle)).astype('int')\n",
    "        y2_x2 =  (c_y_c_x+np.array([int(-512), int(-512)])@rot_mat(angle+90)).astype('int')\n",
    "        y3_x3 =  (c_y_c_x+np.array([int(-512), int(-512)])@rot_mat(angle+180)).astype('int')\n",
    "        y4_x4 =  (c_y_c_x+np.array([int(-512), int(-512)])@rot_mat(angle+270)).astype('int')\n",
    "        corners.append(y1_x1)\n",
    "        corners.append(y2_x2)\n",
    "        corners.append(y3_x3)\n",
    "        corners.append(y4_x4)\n",
    "        left_top = sorted(corners, key = lambda x: (x[1], x[0]))[0]\n",
    "        right_bottom = sorted(corners, key = lambda x: (x[1], x[0]), reverse=True)[0]\n",
    "        left_bottom = (np.array([c_y, c_x]) + np.array(left_top - c_y_c_x)@rot_mat(90)).astype('int16')\n",
    "        right_top = (np.array([c_y, c_x]) + np.array(right_bottom - c_y_c_x)@rot_mat(90)).astype('int16')\n",
    "        left_top = left_top.tolist()\n",
    "        right_top = right_top.tolist()\n",
    "        left_bottom = left_bottom.tolist()\n",
    "        right_bottom = right_bottom.tolist()\n",
    "        left_top.reverse()\n",
    "        right_top.reverse()\n",
    "        left_bottom.reverse()\n",
    "        right_bottom.reverse()\n",
    "        res = {\n",
    "        'left_top': left_top,\n",
    "        'right_top': right_top,\n",
    "        'left_bottom': left_bottom,\n",
    "        'right_bottom': right_bottom,\n",
    "        'angle': angle\n",
    "        }\n",
    "        cv2.imwrite(f'data/train_ext/img/{ind}.png', new_patch)\n",
    "        with open(f'data/train_ext/json/{ind}.json', 'w') as f:\n",
    "            json.dump(res, f)\n",
    "        ind += 1"
   ]
  },
  {
   "cell_type": "code",
   "execution_count": null,
   "id": "0a9834fe",
   "metadata": {},
   "outputs": [],
   "source": []
  },
  {
   "cell_type": "code",
   "execution_count": null,
   "id": "74100db3",
   "metadata": {},
   "outputs": [],
   "source": []
  },
  {
   "cell_type": "code",
   "execution_count": null,
   "id": "78f352a8",
   "metadata": {},
   "outputs": [],
   "source": []
  }
 ],
 "metadata": {
  "kernelspec": {
   "display_name": "Python 3 (ipykernel)",
   "language": "python",
   "name": "python3"
  },
  "language_info": {
   "codemirror_mode": {
    "name": "ipython",
    "version": 3
   },
   "file_extension": ".py",
   "mimetype": "text/x-python",
   "name": "python",
   "nbconvert_exporter": "python",
   "pygments_lexer": "ipython3",
   "version": "3.9.12"
  }
 },
 "nbformat": 4,
 "nbformat_minor": 5
}
